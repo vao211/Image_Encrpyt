{
 "cells": [
  {
   "cell_type": "code",
   "execution_count": 11,
   "id": "a6b5f769",
   "metadata": {},
   "outputs": [],
   "source": [
    "from PIL import Image\n",
    "import numpy as np"
   ]
  },
  {
   "cell_type": "code",
   "execution_count": 12,
   "id": "7c1b18e2",
   "metadata": {},
   "outputs": [],
   "source": [
    "encrypted_img_path = \"./output/encrypted.png\"\n",
    "encrypted_img = Image.open(encrypted_img_path).convert(\"RGB\")\n",
    "\n",
    "encrypted_arr = np.array(encrypted_img, dtype=np.uint8)"
   ]
  },
  {
   "cell_type": "markdown",
   "id": "8bfae2da",
   "metadata": {},
   "source": [
    "load key\n"
   ]
  },
  {
   "cell_type": "code",
   "execution_count": 13,
   "id": "e7090941",
   "metadata": {},
   "outputs": [],
   "source": [
    "key_path = \"./key/key.npy\"\n",
    "key = np.load(key_path)"
   ]
  },
  {
   "cell_type": "markdown",
   "id": "da2e91a0",
   "metadata": {},
   "source": [
    "Decrypt: nghịch đảo trong nhóm (trừ modulo 256)\n"
   ]
  },
  {
   "cell_type": "code",
   "execution_count": 14,
   "id": "68594afd",
   "metadata": {},
   "outputs": [],
   "source": [
    "decrypted_array = (encrypted_arr.astype(np.int32) - key.astype(np.int32)) % 256\n",
    "decrypted_array = decrypted_array.astype(np.uint8)"
   ]
  },
  {
   "cell_type": "markdown",
   "id": "8e896fe1",
   "metadata": {},
   "source": [
    "Lưu ảnh"
   ]
  },
  {
   "cell_type": "code",
   "execution_count": 15,
   "id": "64f1d98b",
   "metadata": {},
   "outputs": [],
   "source": [
    "decrypted_image = Image.fromarray(decrypted_array)\n",
    "output_path_decrypted = './output/decrypted.png'\n",
    "decrypted_image.save(output_path_decrypted)"
   ]
  },
  {
   "cell_type": "markdown",
   "id": "94ad6f1f",
   "metadata": {},
   "source": [
    "#Kiểm tra"
   ]
  },
  {
   "cell_type": "code",
   "execution_count": 16,
   "id": "5489c95d",
   "metadata": {},
   "outputs": [
    {
     "name": "stdout",
     "output_type": "stream",
     "text": [
      "Decrypted matches original: True\n"
     ]
    }
   ],
   "source": [
    "original_path = \"./input/input.png\"\n",
    "original_array = np.array(Image.open(original_path).convert('RGB'), dtype=np.uint8)\n",
    "match = np.all(decrypted_array == original_array)\n",
    "print(f\"Decrypted matches original: {match}\")\n",
    "if not match:\n",
    "    diff = np.where(decrypted_array != original_array)\n",
    "    print(\"Positions diff\", diff)"
   ]
  }
 ],
 "metadata": {
  "kernelspec": {
   "display_name": ".venv (3.12.5)",
   "language": "python",
   "name": "python3"
  },
  "language_info": {
   "codemirror_mode": {
    "name": "ipython",
    "version": 3
   },
   "file_extension": ".py",
   "mimetype": "text/x-python",
   "name": "python",
   "nbconvert_exporter": "python",
   "pygments_lexer": "ipython3",
   "version": "3.12.5"
  }
 },
 "nbformat": 4,
 "nbformat_minor": 5
}
