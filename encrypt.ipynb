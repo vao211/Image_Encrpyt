{
 "cells": [
  {
   "cell_type": "code",
   "execution_count": 42,
   "id": "b8f1deb1",
   "metadata": {},
   "outputs": [],
   "source": [
    "from PIL import Image\n",
    "import numpy as np"
   ]
  },
  {
   "cell_type": "code",
   "execution_count": 43,
   "id": "f876a2eb",
   "metadata": {},
   "outputs": [],
   "source": [
    "input_path = \"./input/input.png\"\n",
    "\n",
    "image = Image.open(input_path).convert('RGB')\n",
    "image_array = np.array(image, dtype=np.uint8)"
   ]
  },
  {
   "cell_type": "code",
   "execution_count": 44,
   "id": "edb02f72",
   "metadata": {},
   "outputs": [],
   "source": [
    "h, w, channel = image_array.shape \n",
    "#key\n",
    "key = np.random.randint(0, 256, size=(h,w,channel), dtype=np.uint8)"
   ]
  },
  {
   "cell_type": "markdown",
   "id": "600d0788",
   "metadata": {},
   "source": [
    "Lưu Key"
   ]
  },
  {
   "cell_type": "code",
   "execution_count": 45,
   "id": "c6e3194b",
   "metadata": {},
   "outputs": [
    {
     "name": "stdout",
     "output_type": "stream",
     "text": [
      "saved key\n"
     ]
    }
   ],
   "source": [
    "key_path = './key/key.npy'\n",
    "np.save(key_path, key)\n",
    "print(\"saved key\")"
   ]
  },
  {
   "cell_type": "markdown",
   "id": "36e8ac51",
   "metadata": {},
   "source": [
    "#encrypt: cộng modulo 256.\n",
    "Z256"
   ]
  },
  {
   "cell_type": "code",
   "execution_count": 46,
   "id": "6d31b704",
   "metadata": {},
   "outputs": [],
   "source": [
    "encrypt_arr = (image_array.astype(np.int32) + key.astype(np.int32)) % 256\n",
    "encrypt_arr = encrypt_arr.astype(np.uint8)"
   ]
  },
  {
   "cell_type": "markdown",
   "id": "a4b2c4b0",
   "metadata": {},
   "source": [
    "Lưu ảnh"
   ]
  },
  {
   "cell_type": "code",
   "execution_count": 47,
   "id": "36a1eb0c",
   "metadata": {},
   "outputs": [
    {
     "name": "stdout",
     "output_type": "stream",
     "text": [
      "image encrypted\n"
     ]
    }
   ],
   "source": [
    "encrypt_img = Image.fromarray(encrypt_arr)\n",
    "output_path_encrypted = \"./output/encrypted.png\"\n",
    "encrypt_img.save(output_path_encrypted)\n",
    "print(\"image encrypted\")"
   ]
  }
 ],
 "metadata": {
  "kernelspec": {
   "display_name": ".venv (3.12.5)",
   "language": "python",
   "name": "python3"
  },
  "language_info": {
   "codemirror_mode": {
    "name": "ipython",
    "version": 3
   },
   "file_extension": ".py",
   "mimetype": "text/x-python",
   "name": "python",
   "nbconvert_exporter": "python",
   "pygments_lexer": "ipython3",
   "version": "3.12.5"
  }
 },
 "nbformat": 4,
 "nbformat_minor": 5
}
